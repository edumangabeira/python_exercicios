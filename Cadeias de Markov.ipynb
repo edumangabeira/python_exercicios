{
 "cells": [
  {
   "cell_type": "code",
   "execution_count": 1,
   "id": "australian-kitchen",
   "metadata": {},
   "outputs": [
    {
     "name": "stdout",
     "output_type": "stream",
     "text": [
      "multiplicação comum:\n",
      "\n",
      "[[0.255 0.245 0.5  ]\n",
      " [0.245 0.255 0.5  ]\n",
      " [0.25  0.25  0.5  ]]\n",
      "tempo de execução:-0.0020177364349365234 segundos\n"
     ]
    }
   ],
   "source": [
    "import numpy as np\n",
    "from numpy import linalg\n",
    "import time\n",
    "\n",
    "matriz_p = np.array([[.3, .2, .5],[.2, .3, .5],[.25, .25, .5]])\n",
    "\n",
    "\n",
    "\n",
    "# (matriz_p)^2\n",
    "print(\"multiplicação comum:\\n\")\n",
    "start = time.time()\n",
    "print(np.matmul(matriz_p,matriz_p))\n",
    "end = start - time.time()\n",
    "print(f\"tempo de execução:{end} segundos\")"
   ]
  },
  {
   "cell_type": "code",
   "execution_count": 12,
   "id": "indonesian-flavor",
   "metadata": {},
   "outputs": [
    {
     "name": "stdout",
     "output_type": "stream",
     "text": [
      "\n",
      " decomposição espectral:\n",
      "\n",
      "[[ 0.5        -0.5         1.22474487]\n",
      " [-0.5         0.5        -1.22474487]\n",
      " [ 0.81649658 -0.81649658  2.        ]]\n",
      "tempo de execução:-0.0010039806365966797 segundos\n"
     ]
    }
   ],
   "source": [
    "# (matriz_p)^100\n",
    "potencia = np.power(10, 1000)\n",
    "\n",
    "'''\n",
    "print(\"multiplicação comum:\\n\")\n",
    "start = time.time()\n",
    "matriz = matriz_p\n",
    "for _ in range(potencia-1):\n",
    "    matriz=np.matmul(matriz_p, matriz)\n",
    "\n",
    "print(matriz)\n",
    "end = start - time.time()\n",
    "print(f\"tempo de execução:{end} segundos\")\n",
    "'''\n",
    "\n",
    "\n",
    "P = linalg.eig(matriz_p)[1]\n",
    "D = np.diag(linalg.eig(matriz_p)[0])\n",
    "P_inversa = linalg.inv(P)\n",
    "\n",
    "start = time.time()\n",
    "A_2 = np.matmul(np.matmul(P, np.power(D, potencia)), P_inversa)\n",
    "print(\"\\n decomposição espectral:\\n\")\n",
    "print(A_2)\n",
    "end = start - time.time()\n",
    "print(f\"tempo de execução:{end} segundos\")"
   ]
  },
  {
   "cell_type": "markdown",
   "id": "organic-steel",
   "metadata": {},
   "source": [
    "### Questão 2 da VAE 1"
   ]
  },
  {
   "cell_type": "code",
   "execution_count": 4,
   "id": "meaning-staff",
   "metadata": {},
   "outputs": [],
   "source": [
    "import numpy as np\n",
    "from numpy import linalg\n",
    "matriz_p = np.array([[.5, 0, .5],[0, 1, 0],[.5, 0, .5]])"
   ]
  },
  {
   "cell_type": "code",
   "execution_count": 11,
   "id": "normal-train",
   "metadata": {},
   "outputs": [],
   "source": [
    "np.set_printoptions(suppress=True)\n",
    "P = linalg.eig(matriz_p)[1]\n",
    "D = np.diag(linalg.eig(matriz_p)[0])\n",
    "P_inversa = linalg.inv(P)"
   ]
  },
  {
   "cell_type": "code",
   "execution_count": 12,
   "id": "humanitarian-ballot",
   "metadata": {},
   "outputs": [
    {
     "data": {
      "text/plain": [
       "array([[ 0.70710678, -0.70710678,  0.        ],\n",
       "       [ 0.        ,  0.        ,  1.        ],\n",
       "       [ 0.70710678,  0.70710678,  0.        ]])"
      ]
     },
     "execution_count": 12,
     "metadata": {},
     "output_type": "execute_result"
    }
   ],
   "source": [
    "P"
   ]
  },
  {
   "cell_type": "code",
   "execution_count": 13,
   "id": "unlikely-tunnel",
   "metadata": {},
   "outputs": [
    {
     "data": {
      "text/plain": [
       "array([[1., 0., 0.],\n",
       "       [0., 0., 0.],\n",
       "       [0., 0., 1.]])"
      ]
     },
     "execution_count": 13,
     "metadata": {},
     "output_type": "execute_result"
    }
   ],
   "source": [
    "D"
   ]
  },
  {
   "cell_type": "code",
   "execution_count": 16,
   "id": "french-fancy",
   "metadata": {},
   "outputs": [
    {
     "data": {
      "text/plain": [
       "array([[ 0.70710678,  0.        ,  0.70710678],\n",
       "       [-0.70710678,  0.        ,  0.70710678],\n",
       "       [ 0.        ,  1.        ,  0.        ]])"
      ]
     },
     "execution_count": 16,
     "metadata": {},
     "output_type": "execute_result"
    }
   ],
   "source": [
    "P_inversa"
   ]
  },
  {
   "cell_type": "code",
   "execution_count": 17,
   "id": "quantitative-skating",
   "metadata": {},
   "outputs": [
    {
     "data": {
      "text/plain": [
       "array([[0.5, 0. , 0.5],\n",
       "       [0. , 1. , 0. ],\n",
       "       [0.5, 0. , 0.5]])"
      ]
     },
     "execution_count": 17,
     "metadata": {},
     "output_type": "execute_result"
    }
   ],
   "source": [
    "potencia = 4\n",
    "np.matmul(np.matmul(P, np.power(D, potencia)), P_inversa)"
   ]
  }
 ],
 "metadata": {
  "kernelspec": {
   "display_name": "Python 3",
   "language": "python",
   "name": "python3"
  },
  "language_info": {
   "codemirror_mode": {
    "name": "ipython",
    "version": 3
   },
   "file_extension": ".py",
   "mimetype": "text/x-python",
   "name": "python",
   "nbconvert_exporter": "python",
   "pygments_lexer": "ipython3",
   "version": "3.8.5"
  }
 },
 "nbformat": 4,
 "nbformat_minor": 5
}
