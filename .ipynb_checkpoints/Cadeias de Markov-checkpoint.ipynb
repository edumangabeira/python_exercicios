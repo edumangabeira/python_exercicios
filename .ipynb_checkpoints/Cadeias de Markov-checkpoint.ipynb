{
 "cells": [
  {
   "cell_type": "code",
   "execution_count": 1,
   "id": "organic-tenant",
   "metadata": {},
   "outputs": [
    {
     "name": "stdout",
     "output_type": "stream",
     "text": [
      "multiplicação comum:\n",
      "\n",
      "[[0.255 0.245 0.5  ]\n",
      " [0.245 0.255 0.5  ]\n",
      " [0.25  0.25  0.5  ]]\n",
      "tempo de execução:-0.0020177364349365234 segundos\n"
     ]
    }
   ],
   "source": [
    "import numpy as np\n",
    "from numpy import linalg\n",
    "import time\n",
    "\n",
    "matriz_p = np.array([[.3, .2, .5],[.2, .3, .5],[.25, .25, .5]])\n",
    "\n",
    "\n",
    "\n",
    "# (matriz_p)^2\n",
    "print(\"multiplicação comum:\\n\")\n",
    "start = time.time()\n",
    "print(np.matmul(matriz_p,matriz_p))\n",
    "end = start - time.time()\n",
    "print(f\"tempo de execução:{end} segundos\")"
   ]
  },
  {
   "cell_type": "code",
   "execution_count": 4,
   "id": "negative-journalism",
   "metadata": {},
   "outputs": [
    {
     "name": "stdout",
     "output_type": "stream",
     "text": [
      "multiplicação comum:\n",
      "\n",
      "[[0.255 0.245 0.5  ]\n",
      " [0.245 0.255 0.5  ]\n",
      " [0.25  0.25  0.5  ]]\n",
      "tempo de execução:-0.0009965896606445312 segundos\n",
      "\n",
      " decomposição espectral:\n",
      "\n",
      "[[0.255 0.245 0.5  ]\n",
      " [0.245 0.255 0.5  ]\n",
      " [0.25  0.25  0.5  ]]\n",
      "tempo de execução:-0.0009937286376953125 segundos\n"
     ]
    }
   ],
   "source": [
    "# (matriz_p)^100\n",
    "potencia = np.power(10, 2)\n",
    "\n",
    "\n",
    "print(\"multiplicação comum:\\n\")\n",
    "start = time.time()\n",
    "matriz = matriz_p\n",
    "for _ in range(potencia-1):\n",
    "    matriz=np.matmul(matriz_p, matriz)\n",
    "\n",
    "print(matriz)\n",
    "end = start - time.time()\n",
    "print(f\"tempo de execução:{end} segundos\")\n",
    "\n",
    "\n",
    "P = linalg.eig(matriz_p)[1]\n",
    "D = np.diag(linalg.eig(matriz_p)[0])\n",
    "P_inversa = linalg.inv(P)\n",
    "\n",
    "start = time.time()\n",
    "A_2 = np.matmul(np.matmul(P, np.power(D, potencia)), P_inversa)\n",
    "print(\"\\n decomposição espectral:\\n\")\n",
    "print(A_2)\n",
    "end = start - time.time()\n",
    "print(f\"tempo de execução:{end} segundos\")"
   ]
  }
 ],
 "metadata": {
  "kernelspec": {
   "display_name": "Python 3",
   "language": "python",
   "name": "python3"
  },
  "language_info": {
   "codemirror_mode": {
    "name": "ipython",
    "version": 3
   },
   "file_extension": ".py",
   "mimetype": "text/x-python",
   "name": "python",
   "nbconvert_exporter": "python",
   "pygments_lexer": "ipython3",
   "version": "3.8.5"
  }
 },
 "nbformat": 4,
 "nbformat_minor": 5
}
