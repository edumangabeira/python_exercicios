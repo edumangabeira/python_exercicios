{
 "cells": [
  {
   "cell_type": "markdown",
   "id": "subject-usage",
   "metadata": {},
   "source": [
    "## Exercício - Aprendizado Não Supervisionado\n",
    "\n",
    "\n",
    "O dataset customers.csv possui as seguintes informações sobre clientes:\n",
    "\n",
    "- CustomerID: Identificador único para cada cliente;\n",
    "- Gender: Gênero do cliente (Female ou Male);\n",
    "- Age: Idade do cliente;\n",
    "- Annual_Income: Renda anual do cliente;\n",
    "- Spending Score (1-100): Score dado para o cliente com relação aos seus gastos. Valor entre 1 e 100, sendo valores baixos dados para clientes que gastam pouco e valores altos dados para aqueles que gastam muito.\n",
    "\n",
    "Analise e faça o tratamento dos dados para realizar uma segmentação dos clientes. \n",
    "Após identificar os diferentes grupos, faça uma descrição de cada grupo, ou seja, \n",
    "descreva as características de cada um e quais conclusões podem ser feitas a partir dessa segmentação.\n",
    "\n",
    "\n",
    "EXTRA: Com os diferentes grupos criados acima, crie um sistema de classificação para \n",
    "classificar novos clientes segundo os grupos criados."
   ]
  },
  {
   "cell_type": "code",
   "execution_count": null,
   "id": "unnecessary-metro",
   "metadata": {},
   "outputs": [],
   "source": [
    "!pip install plotly --upgrade\n",
    "!pip install sklearn --upgrade\n",
    "!pip install seaborn --upgrade"
   ]
  },
  {
   "cell_type": "code",
   "execution_count": 2,
   "id": "streaming-benjamin",
   "metadata": {},
   "outputs": [],
   "source": [
    "# Manipulação\n",
    "import pandas as pd\n",
    "import numpy as np\n",
    "from sklearn.preprocessing import MinMaxScaler\n",
    "\n",
    "# Visualização\n",
    "import plotly.express as px\n",
    "import plotly.graph_objects as go\n",
    "import seaborn as sb\n",
    "\n",
    "# Machine Learning\n",
    "from sklearn import datasets\n",
    "from sklearn.cluster import KMeans\n",
    "from sklearn.decomposition import PCA"
   ]
  },
  {
   "cell_type": "markdown",
   "id": "similar-government",
   "metadata": {},
   "source": [
    "## Tratando os dados\n",
    "\n",
    "Vamos primeiro observar o dataset, procurando por dados faltantes e outliers."
   ]
  },
  {
   "cell_type": "code",
   "execution_count": 3,
   "id": "wicked-consultation",
   "metadata": {},
   "outputs": [
    {
     "data": {
      "text/html": [
       "<div>\n",
       "<style scoped>\n",
       "    .dataframe tbody tr th:only-of-type {\n",
       "        vertical-align: middle;\n",
       "    }\n",
       "\n",
       "    .dataframe tbody tr th {\n",
       "        vertical-align: top;\n",
       "    }\n",
       "\n",
       "    .dataframe thead th {\n",
       "        text-align: right;\n",
       "    }\n",
       "</style>\n",
       "<table border=\"1\" class=\"dataframe\">\n",
       "  <thead>\n",
       "    <tr style=\"text-align: right;\">\n",
       "      <th></th>\n",
       "      <th>CustomerID</th>\n",
       "      <th>Gender</th>\n",
       "      <th>Age</th>\n",
       "      <th>Annual_Income</th>\n",
       "      <th>Spending Score (1-100)</th>\n",
       "    </tr>\n",
       "  </thead>\n",
       "  <tbody>\n",
       "    <tr>\n",
       "      <th>0</th>\n",
       "      <td>0</td>\n",
       "      <td>Female</td>\n",
       "      <td>34</td>\n",
       "      <td>103570.695523</td>\n",
       "      <td>23</td>\n",
       "    </tr>\n",
       "    <tr>\n",
       "      <th>1</th>\n",
       "      <td>1</td>\n",
       "      <td>Male</td>\n",
       "      <td>35</td>\n",
       "      <td>24104.454344</td>\n",
       "      <td>35</td>\n",
       "    </tr>\n",
       "    <tr>\n",
       "      <th>2</th>\n",
       "      <td>2</td>\n",
       "      <td>Male</td>\n",
       "      <td>52</td>\n",
       "      <td>23796.907400</td>\n",
       "      <td>29</td>\n",
       "    </tr>\n",
       "    <tr>\n",
       "      <th>3</th>\n",
       "      <td>3</td>\n",
       "      <td>Male</td>\n",
       "      <td>35</td>\n",
       "      <td>28779.599275</td>\n",
       "      <td>61</td>\n",
       "    </tr>\n",
       "    <tr>\n",
       "      <th>4</th>\n",
       "      <td>4</td>\n",
       "      <td>Female</td>\n",
       "      <td>23</td>\n",
       "      <td>70776.646446</td>\n",
       "      <td>29</td>\n",
       "    </tr>\n",
       "  </tbody>\n",
       "</table>\n",
       "</div>"
      ],
      "text/plain": [
       "   CustomerID  Gender  Age  Annual_Income  Spending Score (1-100)\n",
       "0           0  Female   34  103570.695523                      23\n",
       "1           1    Male   35   24104.454344                      35\n",
       "2           2    Male   52   23796.907400                      29\n",
       "3           3    Male   35   28779.599275                      61\n",
       "4           4  Female   23   70776.646446                      29"
      ]
     },
     "execution_count": 3,
     "metadata": {},
     "output_type": "execute_result"
    }
   ],
   "source": [
    "df = pd.read_csv(\"customers.csv\")\n",
    "df.head()"
   ]
  },
  {
   "cell_type": "markdown",
   "id": "saving-relationship",
   "metadata": {},
   "source": [
    "### Renda anual\n",
    "\n",
    "Aqui temos ao menos um valor discrepante. Mais à frente decidiremos como tratá-lo(s). \n",
    "\n",
    "Também temos outro problema: **16 valores faltantes**. Como se trata de uma variável contínua, não é uma boa opção substituir esses valores por zero, pois isso poderia mexer muito na distribuição dos dados. \n",
    "\n",
    "Sobre a distribuição, temos que:\n",
    "- A assimetria da distribuição é $0.3043$, e podemos considerá-la suficientemente simétrica $(-0.5< 0.3043 <0.5)$.\n",
    "- A curtose da distribuição é $-0.1585$, o que nos diz que as caudas são leves e temos poucos outliers.\n",
    "\n",
    "Com essas informações, podemos dizer com segurança que substituir os dados faltantes pela **média** é um método eficaz."
   ]
  },
  {
   "cell_type": "code",
   "execution_count": 4,
   "id": "sharing-diagnosis",
   "metadata": {},
   "outputs": [
    {
     "name": "stdout",
     "output_type": "stream",
     "text": [
      "Renda anual\n",
      "min: 15643.05579487968\n",
      "max: 137733.43367368082\n",
      "NA: 16\n",
      "assimetria: 0.30427153869286977\n",
      "curtose: -0.15854493025884775\n"
     ]
    },
    {
     "data": {
      "text/plain": [
       "<AxesSubplot:xlabel='Annual_Income'>"
      ]
     },
     "execution_count": 4,
     "metadata": {},
     "output_type": "execute_result"
    },
    {
     "data": {
      "image/png": "[encoded data removed]",
      "text/plain": [
       "<Figure size 432x288 with 1 Axes>"
      ]
     },
     "metadata": {
      "needs_background": "light"
     },
     "output_type": "display_data"
    }
   ],
   "source": [
    "print(\"Renda anual\")\n",
    "print(\"min: {}\".format(df[\"Annual_Income\"].min()))\n",
    "print(\"max: {}\".format(df[\"Annual_Income\"].max()))\n",
    "print(\"NA: {}\".format(df[\"Annual_Income\"].isnull().sum()))\n",
    "print(\"assimetria: {}\".format(df[\"Annual_Income\"].skew()))\n",
    "print(\"curtose: {}\".format(df[\"Annual_Income\"].kurtosis()))\n",
    "sb.boxplot(x = df[\"Annual_Income\"])"
   ]
  },
  {
   "cell_type": "markdown",
   "id": "damaged-heater",
   "metadata": {},
   "source": [
    "#### Tratando NA"
   ]
  },
  {
   "cell_type": "code",
   "execution_count": 5,
   "id": "paperback-palace",
   "metadata": {},
   "outputs": [
    {
     "name": "stdout",
     "output_type": "stream",
     "text": [
      "NA: 0\n"
     ]
    }
   ],
   "source": [
    "df[\"Annual_Income\"].fillna(df[\"Annual_Income\"].mean(), inplace=True)\n",
    "print(\"NA: {}\".format(df[\"Annual_Income\"].isnull().sum()))"
   ]
  },
  {
   "cell_type": "markdown",
   "id": "exact-brake",
   "metadata": {},
   "source": [
    "### Idade\n",
    "\n",
    "Aqui temos outliers grotescos(ninguém vive mais do que 150 anos), logo o melhor a se fazer é retirá-los do dataset."
   ]
  },
  {
   "cell_type": "code",
   "execution_count": 6,
   "id": "designed-tanzania",
   "metadata": {},
   "outputs": [
    {
     "name": "stdout",
     "output_type": "stream",
     "text": [
      "Idade\n",
      "min: 18\n",
      "max: 193\n",
      "NA: 0\n"
     ]
    },
    {
     "data": {
      "text/plain": [
       "<AxesSubplot:xlabel='Age'>"
      ]
     },
     "execution_count": 6,
     "metadata": {},
     "output_type": "execute_result"
    },
    {
     "data": {
      "image/png": "[encoded data removed]",
      "text/plain": [
       "<Figure size 432x288 with 1 Axes>"
      ]
     },
     "metadata": {
      "needs_background": "light"
     },
     "output_type": "display_data"
    }
   ],
   "source": [
    "print(\"Idade\")\n",
    "print(\"min: {}\".format(df[\"Age\"].min()))\n",
    "print(\"max: {}\".format(df[\"Age\"].max()))\n",
    "print(\"NA: {}\".format(df[\"Age\"].isnull().sum()))\n",
    "sb.boxplot(x = df[\"Age\"])"
   ]
  },
  {
   "cell_type": "code",
   "execution_count": 6,
   "id": "premier-poison",
   "metadata": {},
   "outputs": [
    {
     "data": {
      "text/plain": [
       "<AxesSubplot:xlabel='Age'>"
      ]
     },
     "execution_count": 6,
     "metadata": {},
     "output_type": "execute_result"
    },
    {
     "data": {
      "image/png": "[encoded data removed]",
      "text/plain": [
       "<Figure size 432x288 with 1 Axes>"
      ]
     },
     "metadata": {
      "needs_background": "light"
     },
     "output_type": "display_data"
    }
   ],
   "source": [
    "df = df[df[\"Age\"] < 150]\n",
    "sb.boxplot(x = df[\"Age\"])"
   ]
  },
  {
   "cell_type": "markdown",
   "id": "natural-slovak",
   "metadata": {},
   "source": [
    "## Pontuação de gastos\n",
    "\n",
    "Aqui só queremos valores entre 0 e 100, mas aparentemente alguns dados foram imputados erroneamente. Iremos retirar os outliers."
   ]
  },
  {
   "cell_type": "code",
   "execution_count": 7,
   "id": "black-argentina",
   "metadata": {},
   "outputs": [
    {
     "name": "stdout",
     "output_type": "stream",
     "text": [
      "Pontuação de gastos\n",
      "min: 1\n",
      "max: 391\n",
      "NA: 0\n"
     ]
    },
    {
     "data": {
      "text/plain": [
       "<AxesSubplot:xlabel='Spending Score (1-100)'>"
      ]
     },
     "execution_count": 7,
     "metadata": {},
     "output_type": "execute_result"
    },
    {
     "data": {
      "image/png": "[encoded data removed]",
      "text/plain": [
       "<Figure size 432x288 with 1 Axes>"
      ]
     },
     "metadata": {
      "needs_background": "light"
     },
     "output_type": "display_data"
    }
   ],
   "source": [
    "print(\"Pontuação de gastos\")\n",
    "print(\"min: {}\".format(df[\"Spending Score (1-100)\"].min()))\n",
    "print(\"max: {}\".format(df[\"Spending Score (1-100)\"].max()))\n",
    "print(\"NA: {}\".format(df[\"Spending Score (1-100)\"].isnull().sum()))\n",
    "sb.boxplot(x = df[\"Spending Score (1-100)\"])"
   ]
  },
  {
   "cell_type": "code",
   "execution_count": 8,
   "id": "appreciated-banking",
   "metadata": {},
   "outputs": [
    {
     "data": {
      "text/plain": [
       "<AxesSubplot:xlabel='Spending Score (1-100)'>"
      ]
     },
     "execution_count": 8,
     "metadata": {},
     "output_type": "execute_result"
    },
    {
     "data": {
      "image/png": "[encoded data removed]",
      "text/plain": [
       "<Figure size 432x288 with 1 Axes>"
      ]
     },
     "metadata": {
      "needs_background": "light"
     },
     "output_type": "display_data"
    }
   ],
   "source": [
    "df = df[df[\"Spending Score (1-100)\"] <= 100]\n",
    "sb.boxplot(x = df[\"Spending Score (1-100)\"])"
   ]
  },
  {
   "cell_type": "markdown",
   "id": "similar-slovakia",
   "metadata": {},
   "source": [
    "### Gênero\n",
    "\n",
    "Tudo ok nessa coluna"
   ]
  },
  {
   "cell_type": "code",
   "execution_count": 9,
   "id": "attached-professor",
   "metadata": {},
   "outputs": [
    {
     "name": "stdout",
     "output_type": "stream",
     "text": [
      "NAs - Gênero\n",
      "0\n",
      "['Female' 'Male']\n"
     ]
    }
   ],
   "source": [
    "print(\"NAs - Gênero\")\n",
    "print(df[\"Gender\"].isnull().sum())\n",
    "print(df[\"Gender\"].unique())"
   ]
  },
  {
   "cell_type": "markdown",
   "id": "alternative-pioneer",
   "metadata": {},
   "source": [
    "## Mudando de escala\n",
    "\n",
    "Para usarmos algum classificador e segmentar grupos, antes é preciso normalizar os dados. Faremos isso mudando a escala da coluna que contém a renda anual, colocando na mesma faixa da pontuação de gastos(0-100) - que também é similar à idade -."
   ]
  },
  {
   "cell_type": "code",
   "execution_count": 10,
   "id": "chicken-lesson",
   "metadata": {},
   "outputs": [
    {
     "data": {
      "text/html": [
       "<div>\n",
       "<style scoped>\n",
       "    .dataframe tbody tr th:only-of-type {\n",
       "        vertical-align: middle;\n",
       "    }\n",
       "\n",
       "    .dataframe tbody tr th {\n",
       "        vertical-align: top;\n",
       "    }\n",
       "\n",
       "    .dataframe thead th {\n",
       "        text-align: right;\n",
       "    }\n",
       "</style>\n",
       "<table border=\"1\" class=\"dataframe\">\n",
       "  <thead>\n",
       "    <tr style=\"text-align: right;\">\n",
       "      <th></th>\n",
       "      <th>CustomerID</th>\n",
       "      <th>Gender</th>\n",
       "      <th>Age</th>\n",
       "      <th>Annual_Income</th>\n",
       "      <th>Spending Score (1-100)</th>\n",
       "    </tr>\n",
       "  </thead>\n",
       "  <tbody>\n",
       "    <tr>\n",
       "      <th>0</th>\n",
       "      <td>0</td>\n",
       "      <td>Female</td>\n",
       "      <td>34</td>\n",
       "      <td>72.018484</td>\n",
       "      <td>23</td>\n",
       "    </tr>\n",
       "    <tr>\n",
       "      <th>1</th>\n",
       "      <td>1</td>\n",
       "      <td>Male</td>\n",
       "      <td>35</td>\n",
       "      <td>6.930438</td>\n",
       "      <td>35</td>\n",
       "    </tr>\n",
       "    <tr>\n",
       "      <th>2</th>\n",
       "      <td>2</td>\n",
       "      <td>Male</td>\n",
       "      <td>52</td>\n",
       "      <td>6.678537</td>\n",
       "      <td>29</td>\n",
       "    </tr>\n",
       "    <tr>\n",
       "      <th>3</th>\n",
       "      <td>3</td>\n",
       "      <td>Male</td>\n",
       "      <td>35</td>\n",
       "      <td>10.759688</td>\n",
       "      <td>61</td>\n",
       "    </tr>\n",
       "    <tr>\n",
       "      <th>4</th>\n",
       "      <td>4</td>\n",
       "      <td>Female</td>\n",
       "      <td>23</td>\n",
       "      <td>45.158015</td>\n",
       "      <td>29</td>\n",
       "    </tr>\n",
       "  </tbody>\n",
       "</table>\n",
       "</div>"
      ],
      "text/plain": [
       "   CustomerID  Gender  Age  Annual_Income  Spending Score (1-100)\n",
       "0           0  Female   34      72.018484                      23\n",
       "1           1    Male   35       6.930438                      35\n",
       "2           2    Male   52       6.678537                      29\n",
       "3           3    Male   35      10.759688                      61\n",
       "4           4  Female   23      45.158015                      29"
      ]
     },
     "execution_count": 10,
     "metadata": {},
     "output_type": "execute_result"
    }
   ],
   "source": [
    "scaler = MinMaxScaler()\n",
    "df[\"Annual_Income\"] = scaler.fit_transform(df[[\"Annual_Income\"]]) * 100\n",
    "df.head()"
   ]
  },
  {
   "cell_type": "markdown",
   "id": "touched-harassment",
   "metadata": {},
   "source": [
    "# Clusterização\n",
    "\n",
    "Utilizaremos o KMeans como método para encontrar os clusters, utilizando apenas as colunas numéricas.\n",
    "\n",
    "Antes de rodar o algoritmo de classificação, vamos observar pelo método Elbow qual seria o número ideal de clusters.\n",
    "\n",
    "\n",
    "### Quantidade ideal de clusters"
   ]
  },
  {
   "cell_type": "code",
   "execution_count": 19,
   "id": "common-customer",
   "metadata": {},
   "outputs": [],
   "source": [
    "# Método Elbow\n",
    "# Detalhes em: https://jtemporal.com/kmeans-and-elbow-method/\n",
    "\n",
    "# código por https://github.com/jtemporal\n",
    "# encontrado em https://gist.github.com/jtemporal/be5d4be10f8ca657901e4512e0644a4a\n",
    "def calculate_wcss(data):\n",
    "    wcss = []\n",
    "    for n in range(2, 21):\n",
    "        kmeans = KMeans(n_clusters=n)\n",
    "        kmeans.fit(X=data)\n",
    "        wcss.append(kmeans.inertia_)\n",
    "\n",
    "    return wcss\n",
    "\n",
    "# código por https://github.com/jtemporal\n",
    "# encontrado em https://gist.github.com/jtemporal/e248bbd974c4cc24a482780fe45c6851\n",
    "def optimal_number_of_clusters(wcss):\n",
    "    import numpy as np\n",
    "    x1, y1 = 2, wcss[0]\n",
    "    x2, y2 = 20, wcss[len(wcss)-1]\n",
    "\n",
    "    distances = []\n",
    "    for i in range(len(wcss)):\n",
    "        x0 = i+2\n",
    "        y0 = wcss[i]\n",
    "        numerator = np.abs((y2-y1)*x0 - (x2-x1)*y0 + x2*y1 - y2*x1)\n",
    "        denominator = np.sqrt((y2 - y1)**2 + (x2 - x1)**2)\n",
    "        distances.append(numerator/denominator)\n",
    "    \n",
    "    return distances.index(max(distances)) + 2"
   ]
  },
  {
   "cell_type": "code",
   "execution_count": 23,
   "id": "weighted-dressing",
   "metadata": {},
   "outputs": [
    {
     "name": "stdout",
     "output_type": "stream",
     "text": [
      "O número ideal de clusters é: 7\n"
     ]
    }
   ],
   "source": [
    "df_km = df[['Age', 'Annual_Income', 'Spending Score (1-100)']]\n",
    "print(\"O número ideal de clusters é: {}\".format(optimal_number_of_clusters(calculate_wcss(df_km))))"
   ]
  },
  {
   "cell_type": "markdown",
   "id": "acoustic-hawaiian",
   "metadata": {},
   "source": [
    "##  Utilizando o KMeans"
   ]
  },
  {
   "cell_type": "code",
   "execution_count": 67,
   "id": "supreme-lease",
   "metadata": {},
   "outputs": [
    {
     "data": {
      "text/plain": [
       "KMeans(n_clusters=7, random_state=42)"
      ]
     },
     "execution_count": 67,
     "metadata": {},
     "output_type": "execute_result"
    }
   ],
   "source": [
    "cluster = KMeans(7, random_state=42)\n",
    "cluster.fit(df_km)"
   ]
  },
  {
   "cell_type": "code",
   "execution_count": 48,
   "id": "independent-thought",
   "metadata": {},
   "outputs": [],
   "source": [
    "centroide = cluster.cluster_centers_"
   ]
  },
  {
   "cell_type": "code",
   "execution_count": 50,
   "id": "brazilian-token",
   "metadata": {},
   "outputs": [
    {
     "data": {
      "text/plain": [
       "array([[ 27.10416667,  34.72088034,  49.27083333],\n",
       "       [ 32.69230769,  58.48835505,  82.12820513],\n",
       "       [ 44.31818182,   8.7142015 ,  20.27272727],\n",
       "       [ 55.50943396,  33.25727059,  48.75471698],\n",
       "       [ 41.        ,  60.85873701,  15.59375   ],\n",
       "       [ 25.27272727,   8.69533352,  79.36363636],\n",
       "       [180.5       ,  46.6130348 ,  80.5       ]])"
      ]
     },
     "execution_count": 50,
     "metadata": {},
     "output_type": "execute_result"
    }
   ],
   "source": [
    "centroide"
   ]
  },
  {
   "cell_type": "markdown",
   "id": "neutral-mambo",
   "metadata": {},
   "source": [
    "## PCA\n",
    "\n",
    "Agora iremos fazer uma análise de componentes principais para plotar nossos clusters.\n",
    "\n",
    "### correlação entre as variáveis"
   ]
  },
  {
   "cell_type": "code",
   "execution_count": 54,
   "id": "straight-radiation",
   "metadata": {},
   "outputs": [
    {
     "data": {
      "text/html": [
       "<div>\n",
       "<style scoped>\n",
       "    .dataframe tbody tr th:only-of-type {\n",
       "        vertical-align: middle;\n",
       "    }\n",
       "\n",
       "    .dataframe tbody tr th {\n",
       "        vertical-align: top;\n",
       "    }\n",
       "\n",
       "    .dataframe thead th {\n",
       "        text-align: right;\n",
       "    }\n",
       "</style>\n",
       "<table border=\"1\" class=\"dataframe\">\n",
       "  <thead>\n",
       "    <tr style=\"text-align: right;\">\n",
       "      <th></th>\n",
       "      <th>Age</th>\n",
       "      <th>Annual_Income</th>\n",
       "      <th>Spending Score (1-100)</th>\n",
       "    </tr>\n",
       "  </thead>\n",
       "  <tbody>\n",
       "    <tr>\n",
       "      <th>Age</th>\n",
       "      <td>1.000000</td>\n",
       "      <td>0.014976</td>\n",
       "      <td>-0.139303</td>\n",
       "    </tr>\n",
       "    <tr>\n",
       "      <th>Annual_Income</th>\n",
       "      <td>0.014976</td>\n",
       "      <td>1.000000</td>\n",
       "      <td>0.011144</td>\n",
       "    </tr>\n",
       "    <tr>\n",
       "      <th>Spending Score (1-100)</th>\n",
       "      <td>-0.139303</td>\n",
       "      <td>0.011144</td>\n",
       "      <td>1.000000</td>\n",
       "    </tr>\n",
       "  </tbody>\n",
       "</table>\n",
       "</div>"
      ],
      "text/plain": [
       "                             Age  Annual_Income  Spending Score (1-100)\n",
       "Age                     1.000000       0.014976               -0.139303\n",
       "Annual_Income           0.014976       1.000000                0.011144\n",
       "Spending Score (1-100) -0.139303       0.011144                1.000000"
      ]
     },
     "execution_count": 54,
     "metadata": {},
     "output_type": "execute_result"
    }
   ],
   "source": [
    "df_corr = pd.DataFrame(np.corrcoef(df_km.transpose()), columns = df_km.columns , index = df_km.columns )\n",
    "df_corr"
   ]
  },
  {
   "cell_type": "markdown",
   "id": "advisory-glucose",
   "metadata": {},
   "source": [
    "### Usando 2 componentes"
   ]
  },
  {
   "cell_type": "markdown",
   "id": "caring-bernard",
   "metadata": {},
   "source": [
    "https://365datascience.com/tutorials/python-tutorials/pca-k-means/"
   ]
  },
  {
   "cell_type": "code",
   "execution_count": null,
   "id": "periodic-cleaners",
   "metadata": {},
   "outputs": [],
   "source": []
  },
  {
   "cell_type": "code",
   "execution_count": null,
   "id": "welcome-treat",
   "metadata": {},
   "outputs": [],
   "source": []
  },
  {
   "cell_type": "code",
   "execution_count": null,
   "id": "surface-harvest",
   "metadata": {},
   "outputs": [],
   "source": []
  }
 ],
 "metadata": {
  "kernelspec": {
   "display_name": "Python 3",
   "language": "python",
   "name": "python3"
  },
  "language_info": {
   "codemirror_mode": {
    "name": "ipython",
    "version": 3
   },
   "file_extension": ".py",
   "mimetype": "text/x-python",
   "name": "python",
   "nbconvert_exporter": "python",
   "pygments_lexer": "ipython3",
   "version": "3.8.5"
  }
 },
 "nbformat": 4,
 "nbformat_minor": 5
}
